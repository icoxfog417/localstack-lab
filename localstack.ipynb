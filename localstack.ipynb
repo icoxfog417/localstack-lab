{
 "cells": [
  {
   "cell_type": "markdown",
   "id": "f9a39639-41aa-41a1-91c7-b3e67ba60ff2",
   "metadata": {},
   "source": [
    "# LocalStack in SageMaker Studio Lab\n",
    "\n",
    "By using [LocalStack](https://github.com/localstack/localstack), you can test AWS api without AWS account.\n",
    "\n",
    "Please confirm the following before you run this notebook.\n",
    "\n",
    "1. You created `localstack` environment from `environment.yml` and `localstack` is selected as your notebook kernel.\n",
    "2. You ran `localstack` by `SERVICES=s3,lambda DEBUG=1 localstack start --host` from the Terminal.\n",
    "   * I could not confirm other services works fine. There is the restrict of service without docker. Please refer [question: Starting localstack without docker installation](https://github.com/localstack/localstack/issues/4748)\n",
    "3. You confirmed `localstack status services` shows available services.\n",
    "4. You created `profile` for localstack. It is specified by `profile_name` in the following cell.\n",
    "\n",
    "## S3 Example "
   ]
  },
  {
   "cell_type": "code",
   "execution_count": 5,
   "id": "82285cc7-034c-450c-a0eb-af2c57ac0dfd",
   "metadata": {},
   "outputs": [
    {
     "data": {
      "text/plain": [
       "{'ResponseMetadata': {'RequestId': '8L8VWKGX9BNJSTLEZ69ZO5PDG3Q4JBCNKRQVP23U7A607E5E27IF',\n",
       "  'HTTPStatusCode': 200,\n",
       "  'HTTPHeaders': {'content-type': 'application/xml; charset=utf-8',\n",
       "   'content-length': '164',\n",
       "   'x-amzn-requestid': '8L8VWKGX9BNJSTLEZ69ZO5PDG3Q4JBCNKRQVP23U7A607E5E27IF',\n",
       "   'access-control-allow-origin': '*',\n",
       "   'connection': 'close',\n",
       "   'location': '/test.co.jp',\n",
       "   'last-modified': 'Wed, 27 Jul 2022 06:13:39 GMT',\n",
       "   'x-amz-request-id': '1717D146FA851B65',\n",
       "   'x-amz-id-2': 'MzRISOwyjmnup1717D146FA851B657/JypPGXLh0OVFGcJaaO3KW/hRAqKOpIEEp',\n",
       "   'access-control-allow-methods': 'HEAD,GET,PUT,POST,DELETE,OPTIONS,PATCH',\n",
       "   'access-control-allow-headers': 'authorization,cache-control,content-length,content-md5,content-type,etag,location,x-amz-acl,x-amz-content-sha256,x-amz-date,x-amz-request-id,x-amz-security-token,x-amz-tagging,x-amz-target,x-amz-user-agent,x-amz-version-id,x-amzn-requestid,x-localstack-target,amz-sdk-invocation-id,amz-sdk-request',\n",
       "   'access-control-expose-headers': 'etag,x-amz-version-id',\n",
       "   'date': 'Wed, 27 Jul 2022 06:13:39 GMT',\n",
       "   'server': 'hypercorn-h11'},\n",
       "  'RetryAttempts': 0},\n",
       " 'Location': '/test.co.jp'}"
      ]
     },
     "execution_count": 5,
     "metadata": {},
     "output_type": "execute_result"
    }
   ],
   "source": [
    "import boto3\n",
    "from boto3.session import Session\n",
    "\n",
    "\n",
    "profile_name = \"localstack\"\n",
    "session = Session(profile_name=profile_name)\n",
    "s3 = session.client(\"s3\", endpoint_url=\"http://localhost:4566\")\n",
    "s3.create_bucket(Bucket=\"test.co.jp\")"
   ]
  },
  {
   "cell_type": "code",
   "execution_count": 7,
   "id": "890282f1-e82a-4aa5-9fe2-557f31d6534b",
   "metadata": {},
   "outputs": [
    {
     "name": "stdout",
     "output_type": "stream",
     "text": [
      "Existing buckets:\n",
      "  test.co.jp\n"
     ]
    }
   ],
   "source": [
    "print(\"Existing buckets:\")\n",
    "response = s3.list_buckets()\n",
    "for bucket in response[\"Buckets\"]:\n",
    "    print(f'  {bucket[\"Name\"]}')"
   ]
  },
  {
   "cell_type": "code",
   "execution_count": null,
   "id": "5fb6c020-c32b-4482-a7e0-873b25f80eb8",
   "metadata": {},
   "outputs": [],
   "source": []
  }
 ],
 "metadata": {
  "kernelspec": {
   "display_name": "localstack:Python",
   "language": "python",
   "name": "conda-env-localstack-py"
  },
  "language_info": {
   "codemirror_mode": {
    "name": "ipython",
    "version": 3
   },
   "file_extension": ".py",
   "mimetype": "text/x-python",
   "name": "python",
   "nbconvert_exporter": "python",
   "pygments_lexer": "ipython3",
   "version": "3.10.4"
  }
 },
 "nbformat": 4,
 "nbformat_minor": 5
}
