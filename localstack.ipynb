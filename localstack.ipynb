{
 "cells": [
  {
   "cell_type": "markdown",
   "id": "f9a39639-41aa-41a1-91c7-b3e67ba60ff2",
   "metadata": {},
   "source": [
    "# LocalStack in SageMaker Studio Lab\n",
    "\n",
    "By using [LocalStack](https://github.com/localstack/localstack), you can test AWS api without AWS account.\n",
    "\n",
    "Please confirm the following before you run this notebook.\n",
    "\n",
    "1. You created `localstack` environment from `environment.yml` and `localstack` is selected as your notebook kernel.\n",
    "2. You ran `localstack` by `SERVICES=s3,lambda DEBUG=1 localstack start --host` from the Terminal.\n",
    "   * I could not confirm other services works fine. There is the restrict of service without docker. Please refer [question: Starting localstack without docker installation](https://github.com/localstack/localstack/issues/4748)\n",
    "3. You confirmed `localstack status services` shows available services.\n",
    "4. You created `profile` for localstack. It is specified by `profile_name` in the following cell.\n"
   ]
  },
  {
   "cell_type": "code",
   "execution_count": 1,
   "id": "977aca3a-5db7-4b0a-879d-fde3a0fd4037",
   "metadata": {},
   "outputs": [
    {
     "name": "stdout",
     "output_type": "stream",
     "text": [
      "┏━━━━━━━━━━━━━━━━━━━━━━━━━━┳━━━━━━━━━━━━━┓\n",
      "┃\u001b[1m \u001b[0m\u001b[1mService                 \u001b[0m\u001b[1m \u001b[0m┃\u001b[1m \u001b[0m\u001b[1mStatus     \u001b[0m\u001b[1m \u001b[0m┃\n",
      "┡━━━━━━━━━━━━━━━━━━━━━━━━━━╇━━━━━━━━━━━━━┩\n",
      "│ acm                      │ ✔ available │\n",
      "│ apigateway               │ ✔ available │\n",
      "│ cloudformation           │ ✔ available │\n",
      "│ cloudwatch               │ ✔ available │\n",
      "│ config                   │ ✔ available │\n",
      "│ dynamodb                 │ ✔ available │\n",
      "│ dynamodbstreams          │ ✔ available │\n",
      "│ ec2                      │ ✔ available │\n",
      "│ es                       │ ✔ available │\n",
      "│ events                   │ ✔ available │\n",
      "│ firehose                 │ ✔ available │\n",
      "│ iam                      │ ✔ available │\n",
      "│ kinesis                  │ ✔ available │\n",
      "│ kms                      │ ✔ available │\n",
      "│ lambda                   │ ✔ available │\n",
      "│ logs                     │ ✔ available │\n",
      "│ opensearch               │ ✔ available │\n",
      "│ redshift                 │ ✔ available │\n",
      "│ resource-groups          │ ✔ available │\n",
      "│ resourcegroupstaggingapi │ ✔ available │\n",
      "│ route53                  │ ✔ available │\n",
      "│ route53resolver          │ ✔ available │\n",
      "│ s3                       │ ✔ available │\n",
      "│ s3control                │ ✔ available │\n",
      "│ secretsmanager           │ ✔ available │\n",
      "│ ses                      │ ✔ available │\n",
      "│ sns                      │ ✔ available │\n",
      "│ sqs                      │ ✔ available │\n",
      "│ ssm                      │ ✔ available │\n",
      "│ stepfunctions            │ ✔ available │\n",
      "│ sts                      │ ✔ available │\n",
      "│ support                  │ ✔ available │\n",
      "│ swf                      │ ✔ available │\n",
      "└──────────────────────────┴─────────────┘\n"
     ]
    }
   ],
   "source": [
    "!localstack status services"
   ]
  },
  {
   "cell_type": "markdown",
   "id": "58a3062f-4b26-4ca2-b076-aaaba863ad4c",
   "metadata": {},
   "source": [
    "## S3 Example "
   ]
  },
  {
   "cell_type": "code",
   "execution_count": 2,
   "id": "82285cc7-034c-450c-a0eb-af2c57ac0dfd",
   "metadata": {},
   "outputs": [
    {
     "data": {
      "text/plain": [
       "{'ResponseMetadata': {'RequestId': 'TS562FOPQWC9SMMBIQOT6979EIXB8XW4ZTNNPSO06VD48OYL747O',\n",
       "  'HTTPStatusCode': 200,\n",
       "  'HTTPHeaders': {'content-type': 'application/xml; charset=utf-8',\n",
       "   'content-length': '164',\n",
       "   'x-amzn-requestid': 'TS562FOPQWC9SMMBIQOT6979EIXB8XW4ZTNNPSO06VD48OYL747O',\n",
       "   'access-control-allow-origin': '*',\n",
       "   'connection': 'close',\n",
       "   'location': '/test.co.jp',\n",
       "   'last-modified': 'Wed, 27 Jul 2022 06:19:37 GMT',\n",
       "   'x-amz-request-id': 'B89807B168100E6C',\n",
       "   'x-amz-id-2': 'MzRISOwyjmnupB89807B168100E6C7/JypPGXLh0OVFGcJaaO3KW/hRAqKOpIEEp',\n",
       "   'access-control-allow-methods': 'HEAD,GET,PUT,POST,DELETE,OPTIONS,PATCH',\n",
       "   'access-control-allow-headers': 'authorization,cache-control,content-length,content-md5,content-type,etag,location,x-amz-acl,x-amz-content-sha256,x-amz-date,x-amz-request-id,x-amz-security-token,x-amz-tagging,x-amz-target,x-amz-user-agent,x-amz-version-id,x-amzn-requestid,x-localstack-target,amz-sdk-invocation-id,amz-sdk-request',\n",
       "   'access-control-expose-headers': 'etag,x-amz-version-id',\n",
       "   'date': 'Wed, 27 Jul 2022 06:19:37 GMT',\n",
       "   'server': 'hypercorn-h11'},\n",
       "  'RetryAttempts': 0},\n",
       " 'Location': '/test.co.jp'}"
      ]
     },
     "execution_count": 2,
     "metadata": {},
     "output_type": "execute_result"
    }
   ],
   "source": [
    "import boto3\n",
    "from boto3.session import Session\n",
    "\n",
    "\n",
    "profile_name = \"localstack\"\n",
    "session = Session(profile_name=profile_name)\n",
    "s3 = session.client(\"s3\", endpoint_url=\"http://localhost:4566\")\n",
    "s3.create_bucket(Bucket=\"test.co.jp\")"
   ]
  },
  {
   "cell_type": "code",
   "execution_count": 3,
   "id": "890282f1-e82a-4aa5-9fe2-557f31d6534b",
   "metadata": {},
   "outputs": [
    {
     "name": "stdout",
     "output_type": "stream",
     "text": [
      "Existing buckets:\n",
      "  test.co.jp\n"
     ]
    }
   ],
   "source": [
    "print(\"Existing buckets:\")\n",
    "response = s3.list_buckets()\n",
    "for bucket in response[\"Buckets\"]:\n",
    "    print(f'  {bucket[\"Name\"]}')"
   ]
  },
  {
   "cell_type": "code",
   "execution_count": null,
   "id": "5fb6c020-c32b-4482-a7e0-873b25f80eb8",
   "metadata": {},
   "outputs": [],
   "source": []
  }
 ],
 "metadata": {
  "kernelspec": {
   "display_name": "localstack:Python",
   "language": "python",
   "name": "conda-env-localstack-py"
  },
  "language_info": {
   "codemirror_mode": {
    "name": "ipython",
    "version": 3
   },
   "file_extension": ".py",
   "mimetype": "text/x-python",
   "name": "python",
   "nbconvert_exporter": "python",
   "pygments_lexer": "ipython3",
   "version": "3.10.4"
  }
 },
 "nbformat": 4,
 "nbformat_minor": 5
}
